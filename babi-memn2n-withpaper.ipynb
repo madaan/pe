{
 "cells": [
  {
   "cell_type": "code",
   "execution_count": 544,
   "metadata": {
    "collapsed": false
   },
   "outputs": [],
   "source": [
    "'''\n",
    "Implementation of the single hop network from https://arxiv.org/abs/1503.08895.\n",
    "\n",
    "Derived from:\n",
    "- https://github.com/fchollet/keras/blob/master/examples/babi_memnn.py and \n",
    "- Implementation by Jeremy Howard for http://course.fast.ai/.\n",
    "'''\n",
    "from __future__ import print_function\n",
    "from keras.models import Sequential\n",
    "from keras.layers import *\n",
    "from keras.layers import Input\n",
    "from keras.optimizers import RMSprop\n",
    "from keras.utils.data_utils import get_file\n",
    "import keras.backend as K\n",
    "import numpy as np\n",
    "import tarfile\n",
    "import itertools\n",
    "from keras.models import *\n",
    "import random\n",
    "import sys\n",
    "from glob import glob\n",
    "import re\n",
    "import tqdm\n",
    "from keras.preprocessing.sequence import pad_sequences\n",
    "from keras.utils.np_utils import *\n",
    "import os\n",
    "from keras_tqdm import TQDMNotebookCallback"
   ]
  },
  {
   "cell_type": "markdown",
   "metadata": {},
   "source": [
    "# Corpus Preprocessing\n",
    "\n",
    "### Data Format\n",
    "\n",
    "The [training data](https://research.fb.com/downloads/babi/) consists of a number of \"examples\". Each example contains a few memories, and the relevant question/answer pairs. Consider the following example\n",
    "\n",
    "1. Mary moved to the bathroom.\n",
    "2. John went to the hallway.\n",
    "3. Where is Mary?        bathroom        1\n",
    "4. Daniel went back to the hallway.\n",
    "5. Where is Daniel?     hallway  4\n",
    "\n",
    "In the above example, we have 3 memories and 2 question/answer pairs:\n",
    "\n",
    "- Three Memories\n",
    "    * Mary moved to the bathroom.\n",
    "    * John went to the hallway.\n",
    "    * Daniel went back to the hallway.\n",
    "    \n",
    "- 2 Questions/Answer Pairs:\n",
    "    * Q: *Where is Mary?* \n",
    "      A: bathroom\n",
    "    \n",
    "    * Q: *Where is Daniel?*\n",
    "      A: hallway\n",
    "      \n",
    " Note that for the first question, only memories (1, 2) are relevant. For the second question, memories (1, 2, 4) are relevant.\n",
    " \n",
    "\n",
    "### Abstractions\n",
    "* Corpus\n",
    ": Responsible for keeping tracks of the information related to the text corpus. For example, the total number of unique\n",
    "    words, mapping from string to text and so on.\n",
    "* ExampleParser\n",
    ": The training file consists of \"example\" units. ExampleParser takes a file with a number of examples and parses them into 3-tuples of (memories, question, answer)\n",
    "    \n",
    "    "
   ]
  },
  {
   "cell_type": "code",
   "execution_count": 545,
   "metadata": {
    "collapsed": true
   },
   "outputs": [],
   "source": [
    "class Corpus:\n",
    "    def __init__(self):\n",
    "        '''\n",
    "        A corpus object maintains a mapping from a word (string) to a unique id (int).\n",
    "        '''\n",
    "        self.word_idx_dict = {}\n",
    "        self.uniq_word_cnt = 0\n",
    "    \n",
    "    def update_vocab(self, words):\n",
    "        '''\n",
    "        Updates the corpus with the given list of words. The words that are seen for the \n",
    "        first time are added to the word -> id dictionary.\n",
    "        '''\n",
    "        for word in words:\n",
    "            if word not in self.word_idx_dict:\n",
    "                self.word_idx_dict[word] = self.uniq_word_cnt\n",
    "                self.uniq_word_cnt += 1\n",
    "\n",
    "    def words_idx(self, words):\n",
    "        '''\n",
    "        Returns the list of IDs corresponding to the given words. \n",
    "        '''\n",
    "        return [self.word_idx_dict[word] for word in words]\n",
    "    \n",
    "    def tokenize(self, sentence):\n",
    "        return [x.strip() for x in re.split('(\\W+)?', sentence) if x.strip()]"
   ]
  },
  {
   "cell_type": "code",
   "execution_count": 546,
   "metadata": {
    "collapsed": false
   },
   "outputs": [],
   "source": [
    "class ExampleParser:\n",
    "    '''\n",
    "    Responsible for parsing examples for the babi tasks as specified at https://research.fb.com/downloads/babi/\n",
    "    '''\n",
    "    @staticmethod\n",
    "    def add(example_lines, data, c):\n",
    "        '''\n",
    "        \n",
    "        Takes the set of lines that form an example and:\n",
    "        a) updates the corpus with these lines \n",
    "        b) Parses the line to 3-tuples of the form: (memory, question, answer).\n",
    "        \n",
    "        A single story line may yield several 3-tuples of the above form. E.g.: \n",
    "        1 Mary moved to the bathroom.\n",
    "        2 John went to the hallway.\n",
    "        3 Where is Mary?        bathroom        1\n",
    "        4 Daniel went back to the hallway.\n",
    "        12 Where is Daniel?     hallway  4\n",
    "        \n",
    "        Will generate 2 tuples: \n",
    "        \n",
    "        - ([1 Mary moved to the bathroom., 2 John went to the hallway.], Where is Mary?, bathroom)\n",
    "        - ([1 Mary moved to the bathroom., 2 John went to the hallway., 4 Daniel went back to the hallway.],\n",
    "                                                                         Where is Daniel?, hallway)\n",
    "        \n",
    "        Note that instead of storing the actual words, an example stores the IDs of the associated words.\n",
    "        \n",
    "        A word -> ID map is maintained in the corpus.\n",
    "        \n",
    "        @example_lines: A set of lines that form an example.\n",
    "        @data: List of 3-tuples (memories, question, answer), updated by \"add\".\n",
    "        @c: The corpus object.\n",
    "        '''\n",
    "        memories = []\n",
    "        memories_txt = []\n",
    "        qa = []\n",
    "        for eg_line in example_lines:\n",
    "            if \"\\t\" not in eg_line: #normal memory\n",
    "                eg_line = c.tokenize(eg_line)\n",
    "                c.update_vocab(eg_line)\n",
    "                mem_id, memory = eg_line[0], c.words_idx(eg_line[1:])\n",
    "                memories.append(c.words_idx(eg_line))\n",
    "                memories_txt.append(eg_line)\n",
    "            else: #question line\n",
    "                ques, ans, hints = eg_line.split(\"\\t\")\n",
    "                ques = c.tokenize(ques)[1:]\n",
    "                c.update_vocab(ques)\n",
    "                ans = c.tokenize(ans)\n",
    "                c.update_vocab(ans)\n",
    "                data.append(([m for m in memories],\n",
    "                                  c.words_idx(ques), c.words_idx(ans)))\n",
    "    \n",
    "    @staticmethod\n",
    "    def process_files(lines, corpus):\n",
    "        '''\n",
    "        Reads the given file, identifies splits of the example and adds them to th.\n",
    "        '''\n",
    "        data = []\n",
    "        eg_lines = [lines[0].decode('utf-8').strip()]\n",
    "        for line in lines[1:]:\n",
    "            line = line.decode('utf-8').strip()\n",
    "            if int(line.split(\" \", 1)[0]) == 1: #new story starts\n",
    "                ExampleParser.add(eg_lines, data, corpus)\n",
    "                eg_lines = [line.strip()]\n",
    "            else:\n",
    "                eg_lines.append(line.strip())\n",
    "        if len(eg_lines) > 0:\n",
    "            ExampleParser.add(eg_lines, data, corpus)\n",
    "        return data"
   ]
  },
  {
   "cell_type": "markdown",
   "metadata": {},
   "source": [
    "### Download and extract datasets"
   ]
  },
  {
   "cell_type": "code",
   "execution_count": 547,
   "metadata": {
    "collapsed": false
   },
   "outputs": [
    {
     "name": "stdout",
     "output_type": "stream",
     "text": [
      "[b'1 Mary moved to the bathroom.\\n', b'2 Sandra journeyed to the bedroom.\\n', b'3 Mary got the football there.\\n', b'4 John went to the kitchen.\\n']\n",
      "[b'1 Mary got the milk there.\\n', b'2 John moved to the bedroom.\\n', b'3 Sandra went back to the kitchen.\\n', b'4 Mary travelled to the hallway.\\n']\n"
     ]
    }
   ],
   "source": [
    "challenges = {\n",
    "    # QA1 with 10,000 samples\n",
    "    'single_supporting_fact_10k': 'tasks_1-20_v1-2/en-10k/qa1_single-supporting-fact_{}.txt',\n",
    "    # QA2 with 10,000 samples\n",
    "    'two_supporting_facts_10k': 'tasks_1-20_v1-2/en-10k/qa2_two-supporting-facts_{}.txt',\n",
    "}\n",
    "path = get_file('babi-tasks-v1-2.tar.gz', origin='https://s3.amazonaws.com/text-datasets/babi_tasks_1-20_v1-2.tar.gz')\n",
    "tar = tarfile.open(path)\n",
    "challenge_type = 'two_supporting_facts_10k'\n",
    "challenge = challenges[challenge_type]\n",
    "\n",
    "test_lines = tar.extractfile(challenge.format('test')).readlines()\n",
    "train_lines = tar.extractfile(challenge.format('train')).readlines()\n",
    "print(train_lines[0:4])\n",
    "print(test_lines[0:4])"
   ]
  },
  {
   "cell_type": "markdown",
   "metadata": {},
   "source": [
    "### Parse datasets to (memories, question, answer) tuples, perform word -> idx mapping"
   ]
  },
  {
   "cell_type": "code",
   "execution_count": 548,
   "metadata": {
    "collapsed": false
   },
   "outputs": [
    {
     "name": "stdout",
     "output_type": "stream",
     "text": [
      "Processing training files\n"
     ]
    },
    {
     "name": "stderr",
     "output_type": "stream",
     "text": [
      "C:\\Users\\amadaan\\AppData\\Local\\Continuum\\Anaconda3\\lib\\re.py:203: FutureWarning: split() requires a non-empty pattern match.\n",
      "  return _compile(pattern, flags).split(string, maxsplit)\n"
     ]
    },
    {
     "name": "stdout",
     "output_type": "stream",
     "text": [
      "Processing test files\n",
      "# training tuples = 10000\n",
      "# test tuples = 1000\n"
     ]
    }
   ],
   "source": [
    "c = Corpus()\n",
    "print(\"Processing training files\")\n",
    "train_tuples = ExampleParser.process_files(train_lines, c)\n",
    "print(\"Processing test files\")\n",
    "test_tuples = ExampleParser.process_files(test_lines, c)\n",
    "all_tuples = train_tuples + test_tuples\n",
    "print(\"# training tuples = {0}\\n# test tuples = {1}\".format(len(train_tuples), len(test_tuples)))\n"
   ]
  },
  {
   "cell_type": "markdown",
   "metadata": {},
   "source": [
    "#### Example Description\n",
    "- Let us look at the first example and the corresponding lines from the text."
   ]
  },
  {
   "cell_type": "code",
   "execution_count": 549,
   "metadata": {
    "collapsed": false
   },
   "outputs": [
    {
     "name": "stdout",
     "output_type": "stream",
     "text": [
      "([[0, 1, 2, 3, 4, 5, 6], [7, 8, 9, 3, 4, 10, 6], [11, 1, 12, 4, 13, 14, 6], [15, 16, 17, 3, 4, 18, 6], [19, 1, 17, 20, 3, 4, 18, 6], [21, 1, 17, 20, 3, 4, 22, 6]], [23, 24, 4, 13, 25], [22])\n",
      "[b'1 Mary moved to the bathroom.\\n', b'2 Sandra journeyed to the bedroom.\\n', b'3 Mary got the football there.\\n']\n"
     ]
    }
   ],
   "source": [
    "print(train_tuples[0])\n",
    "print(train_lines[0:3])"
   ]
  },
  {
   "cell_type": "markdown",
   "metadata": {},
   "source": [
    "* From the mapping, note that \"1 Mary moved to the bathroom.\" has been mapped to \"0, 1, 2, 3, 4, 5, 6\". (line number is used as a feature).\n",
    "    - 1 -> 0\n",
    "    - Mary -> 1\n",
    "    - moved -> 2\n",
    "    - to -> 3\n",
    "    - the -> 4\n",
    "    - bathroom -> 5\n",
    "    - . (full stop) - 6\n",
    "\n",
    "* Similarily, 3 Where is Mary? is mapped to [11, 12, 1, 13] (note that Mary -> 1, the mapping is retained).\n",
    "\n",
    "* The answer is 5, bathroom"
   ]
  },
  {
   "cell_type": "markdown",
   "metadata": {},
   "source": [
    "## Preparing Dataset for Training\n",
    "\n",
    "- At this point, we have the 3-tuples of (memories, question, answer). \n",
    "\n",
    "- Different tuples may have different number of memories, and different number of words in memories and questions.\n",
    "\n",
    "- As a reminder, a 3-tuple contains a bunch of memories, 1 question and the corresponding answer. Also, we have processed these tuples so that at this point, they are just a bunch of numbers.\n",
    "\n",
    "- Because we want to use the same network for training, we will \"pad\" our 3-tuples to make them all of the same size. This means that:\n",
    "\n",
    "1. All the 3-tuples should have the same number of memories.\n",
    "2. All the memories should have the same number of words.\n",
    "3. All the questions should have the same number of words.\n",
    "\n",
    "\n",
    "- To achieve this, we will 0 pad the sequences. Let's find out relevant upper limits."
   ]
  },
  {
   "cell_type": "code",
   "execution_count": 550,
   "metadata": {
    "collapsed": false
   },
   "outputs": [
    {
     "data": {
      "text/plain": [
       "(10000, 1000, 123, 88, 8, 5)"
      ]
     },
     "execution_count": 550,
     "metadata": {},
     "output_type": "execute_result"
    }
   ],
   "source": [
    "max_num_memories = max([len(example[0]) for example in all_tuples])\n",
    "max_memory_len = max([len(memory) for example in all_tuples for memory in example[0]])\n",
    "max_ques_len = max([len(example[1]) for example in all_tuples])\n",
    "vocab_size = c.uniq_word_cnt\n",
    "len(train_tuples), len(test_tuples), c.uniq_word_cnt, max_num_memories, max_memory_len, max_ques_len"
   ]
  },
  {
   "cell_type": "markdown",
   "metadata": {},
   "source": [
    "| Variable | Count |\n",
    "|---|---|\n",
    "| # Training Tuples | 10000 |\n",
    "| # Test Tuples | 1000 |\n",
    "| Max # words per memory | 8 |\n",
    "| Max # memories in a tuple | 10 |\n",
    "| Max # words per question | 4 |"
   ]
  },
  {
   "cell_type": "code",
   "execution_count": 551,
   "metadata": {
    "collapsed": true
   },
   "outputs": [],
   "source": [
    "def pad_tuples(tuples, max_memory_len, max_num_memories, max_ques_len, vocab_size):\n",
    "    '''\n",
    "    Takes a number of tuples, as well as measures required for 0 padding. \n",
    "    Returns a padded version of the memories, questions and the answer.\n",
    "    In other words, for each tuple, memories is now a matrix of:\n",
    "    a) max_num_memories * max_memory_len\n",
    "    b) question is an array with max_ques_len elements. The gaps are filled with 0s.\n",
    "    Also performs 1-hot encoding for the output.\n",
    "    '''\n",
    "    m, q, a = [], [], []\n",
    "    for (memories, ques, ans) in tuples:\n",
    "        memories= pad_sequences(memories, maxlen=max_memory_len)\n",
    "        memories = np.concatenate([memories, np.zeros((max_num_memories - memories.shape[0],\n",
    "                                                       max_memory_len), 'int') ])\n",
    "        m.append(memories)\n",
    "        q.append(ques)\n",
    "        #ans_vec = np.zeros((vocab_size))\n",
    "        #ans_vec[ans] = 1\n",
    "        a.append(ans)\n",
    "    return np.array(m), pad_sequences(q, maxlen=max_ques_len), np.array(a)"
   ]
  },
  {
   "cell_type": "code",
   "execution_count": 552,
   "metadata": {
    "collapsed": false
   },
   "outputs": [
    {
     "name": "stdout",
     "output_type": "stream",
     "text": [
      "(10000, 88, 8)\n",
      "(10000, 5)\n",
      "(10000, 1)\n",
      "(1000, 88, 8)\n",
      "(1000, 5)\n",
      "(1000, 1)\n"
     ]
    }
   ],
   "source": [
    "m_train, q_train, a_train = pad_tuples(train_tuples, max_memory_len, max_num_memories, max_ques_len, c.uniq_word_cnt)\n",
    "m_test, q_test, a_test = pad_tuples(test_tuples, max_memory_len, max_num_memories, max_ques_len, c.uniq_word_cnt)\n",
    "print(m_train.shape) \n",
    "print(q_train.shape)\n",
    "print(a_train.shape)\n",
    "print(m_test.shape)\n",
    "print(q_test.shape)\n",
    "print(a_test.shape)"
   ]
  },
  {
   "cell_type": "markdown",
   "metadata": {},
   "source": [
    "## Model\n",
    "\n",
    "We will now build the model as specified at https://arxiv.org/abs/1503.08895.\n",
    "\n",
    "\n",
    "The relevant snippet from the paper are referenced inline. An attempt has been made to stay as close to the notation in paper as possible. Continuing from the notations used above, our network is designed to be trained on 1-tuple at a time. That is, the network will be fed a list of 3-tuples, where each of the 3-tuples is (memories, question, answer). \n",
    "\n",
    "For the entirety of the model building discussion, the focus will be on 1 such tuple. "
   ]
  },
  {
   "cell_type": "markdown",
   "metadata": {},
   "source": [
    "### Step 1: Encode the inputs\n",
    "\n",
    "The set x1, x2, ..., x_i that the paper mentions is our list of memories (each of the x_i is basically a list of numbers).\n",
    "\n",
    "![alt text](snippets/m_i.png \"Input Encoding\")\n",
    "\n",
    "### m_i\n",
    "* For each of the inputs, x_i we learn an embedded representation, m_i. In the single fact example, the length of each x is 8. Each of the x is thus an 8-dimensional vectory. Similarily, the number of dimensions in the embedded space is 64. Thus, we want to map each of the 8 dim input vector to a 64 dim vector.\n",
    "\n",
    "* This is achieved by embedding each word of the input to a 64 dim vector, and then adding them all to give the 64 dim vector for the input.\n",
    "\n",
    "### Mapping m_1 to x_1: A complete example.\n",
    "\n",
    "* Suppose that x_1 is = \"1 Mary went to the kitchen\", mapped to [0 0 12 23 32 33 22 21] (0 padding to make the length = 8).\n",
    " For brevity, suppose that the number of hidden dimensions was **5** (it's 64 in the real case), then step 1 would be to learn 1 5 dimensional vector for each word in the sequence:\n",
    "\n",
    "- 0: '[0.13 0.69 0.52 -0.22 -1.15]'\n",
    "- 0: '[0.13 0.69 0.52 -0.22 -1.15]'\n",
    "- 1: '[0.05 0.23 -1.09 0.9 0.21]'\n",
    "- Mary: '[0.8 -1.09 -0.49 1.7 2.77]'\n",
    "- went: '[-0.95 0.87 0.88 0.02 0.09]'\n",
    "- to: '[0.73 -0.58 0.27 0.95 0.9]'\n",
    "- the: '[-1.13 0.41 -0.19 -1.41 0.07]'\n",
    "- kitchen: '[-0.5 , -1.11, -0.47,  0.09, -1.87]'\n",
    "\n",
    " The representation for the sentence is then just a sum of all of these: [-0.77, -0.18, -1.46,  3.19, -1.]).\n",
    " \n",
    " This is m_1."
   ]
  },
  {
   "cell_type": "code",
   "execution_count": 553,
   "metadata": {
    "collapsed": false
   },
   "outputs": [
    {
     "data": {
      "text/plain": [
       "(TensorShape([Dimension(None), Dimension(88), Dimension(8)]),\n",
       " TensorShape([Dimension(None), Dimension(88), Dimension(64)]))"
      ]
     },
     "execution_count": 553,
     "metadata": {},
     "output_type": "execute_result"
    }
   ],
   "source": [
    "n_hidden = 64\n",
    "memories = Input(shape=(max_num_memories, max_memory_len))\n",
    "x = TimeDistributed(Embedding(input_dim=vocab_size, output_dim=n_hidden))(memories)\n",
    "m = Lambda(lambda xx: K.sum(xx, 2))(x)\n",
    "memories.shape, m.shape"
   ]
  },
  {
   "cell_type": "markdown",
   "metadata": {},
   "source": [
    "## Step 2: Encode the query"
   ]
  },
  {
   "cell_type": "markdown",
   "metadata": {},
   "source": [
    "![alt text](snippets/u.PNG \"Query Encoding\")\n",
    "\n",
    "* Similarily, a query input is mapped from a 4 dim to a 64 dim space. This embedded representation of the query is called \"u\"."
   ]
  },
  {
   "cell_type": "code",
   "execution_count": 554,
   "metadata": {
    "collapsed": false
   },
   "outputs": [
    {
     "data": {
      "text/plain": [
       "(TensorShape([Dimension(None), Dimension(5)]),\n",
       " TensorShape([Dimension(None), Dimension(1), Dimension(64)]))"
      ]
     },
     "execution_count": 554,
     "metadata": {},
     "output_type": "execute_result"
    }
   ],
   "source": [
    "query = Input(shape=(max_ques_len,))\n",
    "u = Embedding(input_dim=vocab_size, output_dim=n_hidden)(query)\n",
    "u = Lambda(lambda x : K.sum(x, 1))(u)\n",
    "u = Reshape(target_shape=(1, n_hidden))(u)\n",
    "query.shape, u.shape"
   ]
  },
  {
   "cell_type": "markdown",
   "metadata": {},
   "source": [
    "## Step 3: Calculate p, the attention that each input deserves for the given query\n",
    "\n",
    "* Our answers need to be derived from our memories. Further, similarities in the query and memory is a good indicator of the memory containing the answer (because of presence of common words). The similarity is calculated by taking a dot product of the embedded query with each of the embedded input, followed by a softmax."
   ]
  },
  {
   "cell_type": "markdown",
   "metadata": {},
   "source": [
    "![alt text](snippets/p.PNG \"P\")"
   ]
  },
  {
   "cell_type": "code",
   "execution_count": 555,
   "metadata": {
    "collapsed": false
   },
   "outputs": [
    {
     "data": {
      "text/plain": [
       "TensorShape([Dimension(None), Dimension(88), Dimension(1)])"
      ]
     },
     "execution_count": 555,
     "metadata": {},
     "output_type": "execute_result"
    }
   ],
   "source": [
    "p = dot([m, u], axes=2)\n",
    "p = Reshape((max_num_memories,))(p)\n",
    "p = Activation(activation='softmax')(p)\n",
    "p = Reshape((max_num_memories,1))(p)\n",
    "p.shape\n"
   ]
  },
  {
   "cell_type": "markdown",
   "metadata": {},
   "source": [
    "## Step 4: Calculate c, the output embeddings\n",
    "\n",
    "* The input memory embeddings hopefully now have values that are conducive to finding out the relevant memories for a given question. We now want to learn another representation that will help in finding out the answer. The mechanics of finding out this embedding remain similar to what we did for m_i."
   ]
  },
  {
   "cell_type": "markdown",
   "metadata": {},
   "source": [
    "![alt text](snippets/c_i.PNG \"Output Representation\")"
   ]
  },
  {
   "cell_type": "code",
   "execution_count": 556,
   "metadata": {
    "collapsed": false
   },
   "outputs": [
    {
     "data": {
      "text/plain": [
       "TensorShape([Dimension(None), Dimension(88), Dimension(64)])"
      ]
     },
     "execution_count": 556,
     "metadata": {},
     "output_type": "execute_result"
    }
   ],
   "source": [
    "x = TimeDistributed(Embedding(vocab_size, n_hidden))(memories)\n",
    "c = Lambda(lambda xx: K.sum(xx, 2))(x)\n",
    "c.shape"
   ]
  },
  {
   "cell_type": "markdown",
   "metadata": {},
   "source": [
    "## Step 5: Calculate o, the output representation\n",
    "\n",
    "* The output representation is calculated by taking a \"weighted average\" of the output memory repreesntation. Where the weights are given by p learned above."
   ]
  },
  {
   "cell_type": "markdown",
   "metadata": {},
   "source": [
    "## Output Representation, o\n",
    "![alt text](snippets/o.PNG \"Output Representation\")"
   ]
  },
  {
   "cell_type": "code",
   "execution_count": 557,
   "metadata": {
    "collapsed": false
   },
   "outputs": [
    {
     "data": {
      "text/plain": [
       "<tf.Tensor 'reshape_506/Reshape:0' shape=(?, 1, 64) dtype=float32>"
      ]
     },
     "execution_count": 557,
     "metadata": {},
     "output_type": "execute_result"
    }
   ],
   "source": [
    "o = dot([c, p], axes=1)\n",
    "o = Reshape(target_shape=(1,n_hidden))(o)\n",
    "o"
   ]
  },
  {
   "cell_type": "markdown",
   "metadata": {},
   "source": [
    "## Step 6: Feed o + u to a softmax to get the answer\n",
    "![answers](snippets/a.PNG \"Answer\")"
   ]
  },
  {
   "cell_type": "code",
   "execution_count": 558,
   "metadata": {
    "collapsed": false
   },
   "outputs": [
    {
     "data": {
      "text/plain": [
       "<tf.Tensor 'dense_71/Softmax:0' shape=(?, 123) dtype=float32>"
      ]
     },
     "execution_count": 558,
     "metadata": {},
     "output_type": "execute_result"
    }
   ],
   "source": [
    "a_in = Lambda(lambda ou: sum([ou[0], ou[1]]))([o, u])\n",
    "a_in = Reshape(target_shape=(n_hidden,))(a_in)\n",
    "answer = Dense(vocab_size, activation='softmax')(a_in)\n",
    "answer"
   ]
  },
  {
   "cell_type": "code",
   "execution_count": 559,
   "metadata": {
    "collapsed": false
   },
   "outputs": [],
   "source": [
    "babi_memmn = Model([memories, query], answer)"
   ]
  },
  {
   "cell_type": "code",
   "execution_count": 560,
   "metadata": {
    "collapsed": true
   },
   "outputs": [],
   "source": [
    "babi_memmn.compile(optimizer='rmsprop', loss='sparse_categorical_crossentropy', metrics=['accuracy'])"
   ]
  },
  {
   "cell_type": "code",
   "execution_count": 561,
   "metadata": {
    "collapsed": false
   },
   "outputs": [
    {
     "name": "stdout",
     "output_type": "stream",
     "text": [
      "Train on 10000 samples, validate on 1000 samples\n",
      "Epoch 1/5\n",
      "10s - loss: 1.7321 - acc: 0.2641 - val_loss: 1.5787 - val_acc: 0.3460\n",
      "Epoch 2/5\n",
      "7s - loss: 1.5332 - acc: 0.3634 - val_loss: 1.5346 - val_acc: 0.3590\n",
      "Epoch 3/5\n",
      "8s - loss: 1.5214 - acc: 0.3687 - val_loss: 1.6479 - val_acc: 0.3010\n",
      "Epoch 4/5\n",
      "7s - loss: 1.5139 - acc: 0.3692 - val_loss: 1.5191 - val_acc: 0.3600\n",
      "Epoch 5/5\n",
      "7s - loss: 1.5122 - acc: 0.3620 - val_loss: 1.4913 - val_acc: 0.3780\n",
      "\n"
     ]
    },
    {
     "data": {
      "text/plain": [
       "<keras.callbacks.History at 0x16706f95b00>"
      ]
     },
     "execution_count": 561,
     "metadata": {},
     "output_type": "execute_result"
    }
   ],
   "source": [
    "K.set_value(babi_memmn.optimizer.lr, 1e-2)\n",
    "params = {'verbose': 2, 'callbacks': [TQDMNotebookCallback(leave_inner=False)]}\n",
    "babi_memmn.fit([m_train, q_train], a_train, **params, batch_size=32, epochs=5,\n",
    "               validation_data=([m_test, q_test], a_test))"
   ]
  },
  {
   "cell_type": "markdown",
   "metadata": {
    "collapsed": true
   },
   "source": [
    "### Multi-hop network\n",
    "We will now start building the multi hop network, starting with a verbose 2-hop network and then modularizing it.\n",
    "Let us look at the experiments section to see which configuration have the authors used for the final experiment. \n",
    "\n",
    "Let's look at the multi-hop networks first. \n",
    "\n",
    "![experiments](snippets/multihop.PNG \"Answer\")\n",
    "\n",
    "We note the following from the diagram:\n",
    "\n",
    "1. Layers of networks are stacked one over the other. \n",
    "\n",
    "2. The input doesn't change across the layers.\n",
    "\n",
    "3. The original query is supplied only to the first layer. For the subsequent layers, the following scheme is used:\n",
    "    u(i + 1) = u(i) + o(i)\n",
    "\n",
    "![experiments](snippets/exp.PNG \"Answer\")\n",
    "\n",
    "We will start with 2 hops first, and then move to three."
   ]
  },
  {
   "cell_type": "markdown",
   "metadata": {},
   "source": [
    "#### 2-hop network with adjacent weight sharing\n",
    "\n",
    "Since the adjacent weight sharing scheme is used for the final experiments, let's use the same."
   ]
  },
  {
   "cell_type": "code",
   "execution_count": 650,
   "metadata": {
    "collapsed": true
   },
   "outputs": [],
   "source": [
    "mem_input = Input(shape=(max_num_memories, max_memory_len))\n",
    "query_input = Input(shape=(max_ques_len,))"
   ]
  },
  {
   "cell_type": "code",
   "execution_count": 651,
   "metadata": {
    "collapsed": false
   },
   "outputs": [
    {
     "data": {
      "text/plain": [
       "<tf.Tensor 'lambda_203/Sum:0' shape=(?, 88, 64) dtype=float32>"
      ]
     },
     "execution_count": 651,
     "metadata": {},
     "output_type": "execute_result"
    }
   ],
   "source": [
    "A1 = Embedding(vocab_size,output_dim=n_hidden)\n",
    "m_i = TimeDistributed(A1)(mem_input)\n",
    "m_i = Lambda(lambda x: K.sum(x, 2))(m_i)\n",
    "m_i"
   ]
  },
  {
   "cell_type": "markdown",
   "metadata": {},
   "source": [
    "![experiments](snippets/adj1.PNG \"Answer\")\n",
    "\n",
    "* **So, the embedding layer for the query and the input should be shared for the first hop.**"
   ]
  },
  {
   "cell_type": "code",
   "execution_count": 652,
   "metadata": {
    "collapsed": false
   },
   "outputs": [
    {
     "data": {
      "text/plain": [
       "<tf.Tensor 'reshape_578/Reshape:0' shape=(?, 1, 64) dtype=float32>"
      ]
     },
     "execution_count": 652,
     "metadata": {},
     "output_type": "execute_result"
    }
   ],
   "source": [
    "B = A1 #as specified\n",
    "u1 = B(query_input)\n",
    "u1 = (Lambda(lambda x: K.sum(x, 1)))(u1)\n",
    "u1 = Reshape((1, n_hidden))(u1)\n",
    "u1"
   ]
  },
  {
   "cell_type": "code",
   "execution_count": 653,
   "metadata": {
    "collapsed": false
   },
   "outputs": [
    {
     "data": {
      "text/plain": [
       "<tf.Tensor 'lambda_205/Sum:0' shape=(?, 88, 64) dtype=float32>"
      ]
     },
     "execution_count": 653,
     "metadata": {},
     "output_type": "execute_result"
    }
   ],
   "source": [
    "#nothing special here\n",
    "C1 = Embedding(vocab_size,output_dim=n_hidden)\n",
    "c_i_1 = TimeDistributed(C1)(mem_input)\n",
    "c_i_1 = Lambda(lambda x: K.sum(x, 2))(c_i_1)\n",
    "c_i_1"
   ]
  },
  {
   "cell_type": "code",
   "execution_count": 654,
   "metadata": {
    "collapsed": false
   },
   "outputs": [
    {
     "data": {
      "text/plain": [
       "<tf.Tensor 'reshape_581/Reshape:0' shape=(?, 64) dtype=float32>"
      ]
     },
     "execution_count": 654,
     "metadata": {},
     "output_type": "execute_result"
    }
   ],
   "source": [
    "#Calculation for a given hop don't change at all.\n",
    "p1 = dot([m_i, u1], axes=2)\n",
    "p1 = Reshape((max_num_memories,))(p1)\n",
    "p1 = Activation(activation='softmax')(p1)\n",
    "p1 = Reshape((max_num_memories,1))(p1)\n",
    "o1 = dot([c_i_1, p1], axes=1)\n",
    "o1 = Reshape(target_shape=(n_hidden,))(o1)\n",
    "o1"
   ]
  },
  {
   "cell_type": "markdown",
   "metadata": {},
   "source": [
    "#### Calculating u2\n",
    "![](snippets/ukp1.PNG \"u_k+1\")"
   ]
  },
  {
   "cell_type": "code",
   "execution_count": 655,
   "metadata": {
    "collapsed": false
   },
   "outputs": [
    {
     "data": {
      "text/plain": [
       "<tf.Tensor 'add_142_1/add:0' shape=(?, 64) dtype=float32>"
      ]
     },
     "execution_count": 655,
     "metadata": {},
     "output_type": "execute_result"
    }
   ],
   "source": [
    "u1 = Reshape((n_hidden,))(u1)\n",
    "u2 = add([o1, u1])\n",
    "u2"
   ]
  },
  {
   "cell_type": "markdown",
   "metadata": {},
   "source": [
    "### Second Layer\n",
    "\n",
    "![](snippets/weight_sharing_1.PNG \"\")"
   ]
  },
  {
   "cell_type": "code",
   "execution_count": 656,
   "metadata": {
    "collapsed": false
   },
   "outputs": [
    {
     "data": {
      "text/plain": [
       "<tf.Tensor 'lambda_206/Sum:0' shape=(?, 88, 64) dtype=float32>"
      ]
     },
     "execution_count": 656,
     "metadata": {},
     "output_type": "execute_result"
    }
   ],
   "source": [
    "A2 = C1 #A(k + 1) = C(k)\n",
    "m_i = TimeDistributed(A2)(mem_input)\n",
    "m_i = Lambda(lambda x: K.sum(x, 2))(m_i)\n",
    "m_i"
   ]
  },
  {
   "cell_type": "code",
   "execution_count": 657,
   "metadata": {
    "collapsed": false
   },
   "outputs": [
    {
     "data": {
      "text/plain": [
       "<tf.Tensor 'lambda_207/Sum:0' shape=(?, 88, 64) dtype=float32>"
      ]
     },
     "execution_count": 657,
     "metadata": {},
     "output_type": "execute_result"
    }
   ],
   "source": [
    "#Same as the previous layer\n",
    "C2 = Embedding(vocab_size,output_dim=n_hidden)\n",
    "c_i_2 = TimeDistributed(C2)(mem_input)\n",
    "c_i_2 = Lambda(lambda x: K.sum(x, 2))(c_i_2)\n",
    "c_i_2"
   ]
  },
  {
   "cell_type": "code",
   "execution_count": 658,
   "metadata": {
    "collapsed": false
   },
   "outputs": [
    {
     "data": {
      "text/plain": [
       "<tf.Tensor 'reshape_586/Reshape:0' shape=(?, 64) dtype=float32>"
      ]
     },
     "execution_count": 658,
     "metadata": {},
     "output_type": "execute_result"
    }
   ],
   "source": [
    "#Same as the previous layer\n",
    "u2 = Reshape((1, n_hidden))(u2)\n",
    "p2 = dot([m_i, u2], axes=2)\n",
    "p2 = Reshape((max_num_memories,))(p2)\n",
    "p2 = Activation(activation='softmax')(p2)\n",
    "p2 = Reshape((max_num_memories,1))(p2)\n",
    "o2 = dot([c_i_2, p2], axes=1)\n",
    "o2 = Reshape(target_shape=(n_hidden,))(o2)\n",
    "o2"
   ]
  },
  {
   "cell_type": "code",
   "execution_count": 663,
   "metadata": {
    "collapsed": false
   },
   "outputs": [
    {
     "data": {
      "text/plain": [
       "<tf.Tensor 'add_144_1/add:0' shape=(?, 64) dtype=float32>"
      ]
     },
     "execution_count": 663,
     "metadata": {},
     "output_type": "execute_result"
    }
   ],
   "source": [
    "u2 = Reshape((n_hidden,))(u2)\n",
    "u1 = Reshape((n_hidden,))(u1)\n",
    "#u3 = add([o2, u1]) #u(k + 1) = o(k) + u(k)\n",
    "#This is a hack, I was not able to get good results with u3 = u2 + o2\n",
    "u3 = add([o2, u1]) #u(k + 1) = o(k) + u(k)\n",
    "u3"
   ]
  },
  {
   "cell_type": "code",
   "execution_count": 664,
   "metadata": {
    "collapsed": false
   },
   "outputs": [
    {
     "data": {
      "text/plain": [
       "<tf.Tensor 'dense_79/Softmax:0' shape=(?, 123) dtype=float32>"
      ]
     },
     "execution_count": 664,
     "metadata": {},
     "output_type": "execute_result"
    }
   ],
   "source": [
    "#answer = MemOut(vocab_size, C2)(u3)\n",
    "answer = Dense(vocab_size, activation='softmax')(u3)\n",
    "answer"
   ]
  },
  {
   "cell_type": "code",
   "execution_count": 665,
   "metadata": {
    "collapsed": false
   },
   "outputs": [],
   "source": [
    "babi2 = Model([mem_input, query_input], answer)"
   ]
  },
  {
   "cell_type": "code",
   "execution_count": null,
   "metadata": {
    "collapsed": false
   },
   "outputs": [
    {
     "name": "stdout",
     "output_type": "stream",
     "text": [
      "Train on 10000 samples, validate on 1000 samples\n",
      "Epoch 1/8\n",
      "13s - loss: 0.4886 - acc: 0.8363 - val_loss: 0.5807 - val_acc: 0.8100\n",
      "Epoch 2/8\n",
      "11s - loss: 0.4660 - acc: 0.8434 - val_loss: 0.5494 - val_acc: 0.7990\n",
      "Epoch 3/8\n",
      "11s - loss: 0.4356 - acc: 0.8534 - val_loss: 0.5416 - val_acc: 0.8240\n",
      "Epoch 4/8\n",
      "11s - loss: 0.4211 - acc: 0.8574 - val_loss: 0.5787 - val_acc: 0.7980\n",
      "Epoch 5/8\n",
      "11s - loss: 0.4109 - acc: 0.8645 - val_loss: 0.5428 - val_acc: 0.8100\n",
      "Epoch 6/8\n",
      "12s - loss: 0.3952 - acc: 0.8633 - val_loss: 0.5729 - val_acc: 0.8090\n",
      "Epoch 7/8\n",
      "11s - loss: 0.3841 - acc: 0.8707 - val_loss: 0.5905 - val_acc: 0.8010\n",
      "Epoch 8/8\n"
     ]
    }
   ],
   "source": [
    "babi2.compile(optimizer='rmsprop', loss='sparse_categorical_crossentropy', metrics=['accuracy'])\n",
    "K.set_value(babi_memmn.optimizer.lr, 0.01)\n",
    "babi2.fit([m_train, q_train], a_train, **parms, batch_size=32, epochs=8,\n",
    "\n",
    "          validation_data=([m_test, q_test], a_test))"
   ]
  },
  {
   "cell_type": "code",
   "execution_count": null,
   "metadata": {
    "collapsed": true
   },
   "outputs": [],
   "source": []
  },
  {
   "cell_type": "markdown",
   "metadata": {},
   "source": [
    "## Modular Hops Network\n",
    "\n",
    "* We now modularize the same piece of code to create a 3-hop network."
   ]
  },
  {
   "cell_type": "code",
   "execution_count": 703,
   "metadata": {
    "collapsed": false
   },
   "outputs": [],
   "source": [
    "def get_mi(mem_input, A=None):\n",
    "    if A == None:\n",
    "        A = Embedding(vocab_size,output_dim=n_hidden)\n",
    "    m = TimeDistributed(A)(mem_input)\n",
    "    m = Lambda(lambda x: K.sum(x, 2))(m)\n",
    "    return A, m\n",
    "\n",
    "def get_ci(mem_input, C=None):\n",
    "    if C == None:\n",
    "        C = Embedding(vocab_size,output_dim=n_hidden)\n",
    "    m = TimeDistributed(C)(mem_input)\n",
    "    m = Lambda(lambda x: K.sum(x, 2))(m)\n",
    "    return C, m\n",
    "\n",
    "def get_u(B, query_input):\n",
    "    u = B(query_input)\n",
    "    u = (Lambda(lambda x: K.sum(x, 1)))(u)\n",
    "    u = Reshape((1, n_hidden))(u)\n",
    "    return u\n",
    "        \n",
    "def get_p(m, u):\n",
    "    u = Reshape((1, n_hidden))(u)\n",
    "    p = dot([m, u], axes=2)\n",
    "    p = Reshape((max_num_memories,))(p)\n",
    "    p = Activation(activation='softmax')(p)\n",
    "    p = Reshape((max_num_memories,1))(p)\n",
    "    return p\n",
    "\n",
    "def get_o(c_i, p):\n",
    "    o = dot([c_i, p], axes=1)\n",
    "    o = Reshape(target_shape=(n_hidden,))(o)\n",
    "    return o\n",
    "\n",
    "def next_u(u_prev, o_prev):\n",
    "    o_prev = Reshape(target_shape=(n_hidden,))(o_prev)\n",
    "    u_prev = Reshape((n_hidden,))(u_prev)\n",
    "    u_next = add([o_prev, u_prev]) #u(k + 1) = o(k) + u(k)\n",
    "    return u_next"
   ]
  },
  {
   "cell_type": "code",
   "execution_count": 704,
   "metadata": {
    "collapsed": true
   },
   "outputs": [],
   "source": [
    "#initialize\n",
    "mem_input = Input(shape=(max_num_memories, max_memory_len))\n",
    "query_input = Input(shape=(max_ques_len,))"
   ]
  },
  {
   "cell_type": "code",
   "execution_count": 705,
   "metadata": {
    "collapsed": false
   },
   "outputs": [],
   "source": [
    "A1, mi_1 = get_mi(mem_input=mem_input)\n",
    "u1 = get_u(B=A1, query_input=query_input) #B = A1\n",
    "p1 = get_p(mi_1, u1)\n",
    "C1, ci_1 = get_ci(mem_input)\n",
    "o1 = get_o(ci_1, p1)\n",
    "u2 = next_u(u1, o1)\n"
   ]
  },
  {
   "cell_type": "code",
   "execution_count": 706,
   "metadata": {
    "collapsed": false
   },
   "outputs": [],
   "source": [
    "A2, mi_2 = get_mi(mem_input=mem_input, A=C1) #A2 = C1\n",
    "p2 = get_p(mi_2, u2)\n",
    "C2, ci_2 = get_ci(mem_input)\n",
    "o2 = get_o(ci_2, p2)\n",
    "u3 = next_u(u1, o2)"
   ]
  },
  {
   "cell_type": "code",
   "execution_count": 707,
   "metadata": {
    "collapsed": false
   },
   "outputs": [],
   "source": [
    "A3, mi_3 = get_mi(mem_input=mem_input, A=C2) #A2 = C1\n",
    "p3 = get_p(mi_3, u3)\n",
    "C3, ci_3 = get_ci(mem_input)\n",
    "o3 = get_o(ci_3, p3)\n",
    "u4 = next_u(u1, o3)"
   ]
  },
  {
   "cell_type": "code",
   "execution_count": 708,
   "metadata": {
    "collapsed": false
   },
   "outputs": [
    {
     "data": {
      "text/plain": [
       "<tf.Tensor 'dense_84/Softmax:0' shape=(?, 123) dtype=float32>"
      ]
     },
     "execution_count": 708,
     "metadata": {},
     "output_type": "execute_result"
    }
   ],
   "source": [
    "answer = Dense(vocab_size, activation='softmax')(u4)\n",
    "answer"
   ]
  },
  {
   "cell_type": "code",
   "execution_count": 709,
   "metadata": {
    "collapsed": false
   },
   "outputs": [],
   "source": [
    "babi_mod = Model([mem_input, query_input], answer)\n"
   ]
  },
  {
   "cell_type": "code",
   "execution_count": null,
   "metadata": {
    "collapsed": false
   },
   "outputs": [
    {
     "name": "stdout",
     "output_type": "stream",
     "text": [
      "Train on 10000 samples, validate on 1000 samples\n",
      "Epoch 1/10\n",
      "\n",
      "19s - loss: 0.4045 - acc: 0.8551 - val_loss: 0.6237 - val_acc: 0.7940\n",
      "Epoch 2/10\n",
      "17s - loss: 0.3838 - acc: 0.8660 - val_loss: 0.5823 - val_acc: 0.7990\n",
      "Epoch 3/10\n",
      "17s - loss: 0.3633 - acc: 0.8727 - val_loss: 0.6467 - val_acc: 0.7900\n",
      "Epoch 4/10\n",
      "17s - loss: 0.3490 - acc: 0.8817 - val_loss: 0.6516 - val_acc: 0.8060\n",
      "Epoch 5/10\n",
      "16s - loss: 0.3400 - acc: 0.8847 - val_loss: 0.6400 - val_acc: 0.8180\n",
      "Epoch 6/10\n",
      "17s - loss: 0.3329 - acc: 0.8872 - val_loss: 0.5822 - val_acc: 0.8020\n",
      "Epoch 7/10\n",
      "16s - loss: 0.3149 - acc: 0.8909 - val_loss: 0.5893 - val_acc: 0.8170\n",
      "Epoch 8/10\n",
      "17s - loss: 0.3097 - acc: 0.8959 - val_loss: 0.6872 - val_acc: 0.7930\n",
      "Epoch 9/10\n",
      "17s - loss: 0.2986 - acc: 0.9024 - val_loss: 0.6451 - val_acc: 0.8050\n",
      "Epoch 10/10\n",
      "17s - loss: 0.2954 - acc: 0.9019 - val_loss: 0.6573 - val_acc: 0.7960\n",
      "\n"
     ]
    },
    {
     "data": {
      "text/plain": [
       "<keras.callbacks.History at 0x16763130e48>"
      ]
     },
     "execution_count": 711,
     "metadata": {},
     "output_type": "execute_result"
    }
   ],
   "source": [
    "babi_mod.compile(optimizer='rmsprop', loss='sparse_categorical_crossentropy', metrics=['accuracy'])\n",
    "K.set_value(babi_memmn.optimizer.lr, 0.005)\n",
    "babi_mod.fit([m_train, q_train], a_train, **parms, batch_size=32, epochs=10,\n",
    "\n",
    "          validation_data=([m_test, q_test], a_test))"
   ]
  },
  {
   "cell_type": "code",
   "execution_count": null,
   "metadata": {
    "collapsed": true
   },
   "outputs": [],
   "source": []
  }
 ],
 "metadata": {
  "kernelspec": {
   "display_name": "Python [conda root]",
   "language": "python",
   "name": "conda-root-py"
  },
  "language_info": {
   "codemirror_mode": {
    "name": "ipython",
    "version": 3
   },
   "file_extension": ".py",
   "mimetype": "text/x-python",
   "name": "python",
   "nbconvert_exporter": "python",
   "pygments_lexer": "ipython3",
   "version": "3.5.2"
  },
  "widgets": {
   "state": {
    "002468ee470c4bcb851561c551791118": {
     "views": [
      {
       "cell_index": 64
      }
     ]
    },
    "010df720dde84ad99c210b8ba73356ee": {
     "views": [
      {
       "cell_index": 62
      }
     ]
    },
    "012e4de64a2546a79512abc12d9aef5b": {
     "views": [
      {
       "cell_index": 65
      }
     ]
    },
    "02ee6ff15a6046cda7b93edb6e2ee37b": {
     "views": [
      {
       "cell_index": 63
      }
     ]
    },
    "0440af446aec4c788b4996206c727a7b": {
     "views": [
      {
       "cell_index": 54
      }
     ]
    },
    "049ee16caeab4e46b433bcd525eaf09d": {
     "views": [
      {
       "cell_index": 64
      }
     ]
    },
    "04af1201994941619b034e02290886ec": {
     "views": [
      {
       "cell_index": 65
      }
     ]
    },
    "05198a1c934244bfb9c55161cbbf1f6a": {
     "views": [
      {
       "cell_index": 54
      }
     ]
    },
    "060b6cc51e104cf5be6b07db556b9391": {
     "views": [
      {
       "cell_index": 64
      }
     ]
    },
    "060efe9f5f3f48bfb64799018f312a46": {
     "views": [
      {
       "cell_index": 63
      }
     ]
    },
    "077ceec0d95d42d182b9b519723e20d6": {
     "views": [
      {
       "cell_index": 63
      }
     ]
    },
    "07954f9920df444086e7d9bbbae799a6": {
     "views": [
      {
       "cell_index": 64
      }
     ]
    },
    "08f98b73af034ac786d100db2d06d6f6": {
     "views": [
      {
       "cell_index": 53
      }
     ]
    },
    "0926f329da4a447bbeca7f1e7c4e6317": {
     "views": [
      {
       "cell_index": 65
      }
     ]
    },
    "09d69bb19a414a749741cdb67d3b4232": {
     "views": [
      {
       "cell_index": 63
      }
     ]
    },
    "0b004e8c972c431f86b7c25beb3e7a9a": {
     "views": [
      {
       "cell_index": 65
      }
     ]
    },
    "0c66da7d7a9f4676a9421cdd579cd7e5": {
     "views": [
      {
       "cell_index": 53
      }
     ]
    },
    "0cf3ed484fb04fdbb72a9e42cd66464c": {
     "views": [
      {
       "cell_index": 66
      }
     ]
    },
    "0d1de29df66b46aab764001836dab1e4": {
     "views": [
      {
       "cell_index": 51
      }
     ]
    },
    "0d59ca66b2654518ba328ff083853ad7": {
     "views": [
      {
       "cell_index": 63
      }
     ]
    },
    "0e1c7871dd6f4a9893a6e13eaf404dcc": {
     "views": [
      {
       "cell_index": 66
      }
     ]
    },
    "0e2099c7b28f41b68b4501e2e75e4995": {
     "views": [
      {
       "cell_index": 64
      }
     ]
    },
    "0e9935bbe7e64b0e88b02cd903d466e5": {
     "views": [
      {
       "cell_index": 63
      }
     ]
    },
    "0eabfcf03d49414cb3901bdf99092b02": {
     "views": [
      {
       "cell_index": 54
      }
     ]
    },
    "0f0a5293bfb5467d91c689672cae6963": {
     "views": [
      {
       "cell_index": 53
      }
     ]
    },
    "10e41b4c5fc141efaf18ea53c7ab9b41": {
     "views": [
      {
       "cell_index": 35
      }
     ]
    },
    "134bd8a982f54559b822cd4979b9ca4c": {
     "views": [
      {
       "cell_index": 53
      }
     ]
    },
    "1746f56d181c426a83467f1cb6dc2e87": {
     "views": [
      {
       "cell_index": 65
      }
     ]
    },
    "18836a310e1e403d92b2075f20ae5e98": {
     "views": [
      {
       "cell_index": 64
      }
     ]
    },
    "18c9e393237942b7af82cefff122f67e": {
     "views": [
      {
       "cell_index": 67
      }
     ]
    },
    "1a3df1e9ea294c238bcfead985997840": {
     "views": [
      {
       "cell_index": 54
      }
     ]
    },
    "1aa4f0275fb64121bca0c111ba09db1a": {
     "views": [
      {
       "cell_index": 35
      }
     ]
    },
    "1c125d56b639442d88e3d327909e4923": {
     "views": [
      {
       "cell_index": 63
      }
     ]
    },
    "1c81517f84b840ab8b49f3069ab145fd": {
     "views": [
      {
       "cell_index": 65
      }
     ]
    },
    "1db020d5518d47998668bedbf7613f54": {
     "views": [
      {
       "cell_index": 54
      }
     ]
    },
    "1f849386f9774418be9f3fd0c60d4d73": {
     "views": [
      {
       "cell_index": 54
      }
     ]
    },
    "1f8d4030730d46f090067637609c86d1": {
     "views": [
      {
       "cell_index": 63
      }
     ]
    },
    "209134398fdf4479afcbd9074632db7e": {
     "views": [
      {
       "cell_index": 65
      }
     ]
    },
    "238231a504ba4337b3b4fecf2f529a95": {
     "views": [
      {
       "cell_index": 54
      }
     ]
    },
    "243be1dcafd44546a9403fac1c3640f7": {
     "views": [
      {
       "cell_index": 63
      }
     ]
    },
    "24acc82f12304983877b0941c4d5a4cb": {
     "views": [
      {
       "cell_index": 53
      }
     ]
    },
    "24cd0b3ae8994bd8b7701e8fe117b6d1": {
     "views": [
      {
       "cell_index": 35
      }
     ]
    },
    "258c6604d57e4195958480b271676c82": {
     "views": [
      {
       "cell_index": 63
      }
     ]
    },
    "25e6f3574203469997ecdf4e9a54e98e": {
     "views": [
      {
       "cell_index": 54
      }
     ]
    },
    "2702ea9cdee341d0bc3a2fc8731d5c30": {
     "views": [
      {
       "cell_index": 54
      }
     ]
    },
    "2707618ab9fc44f49c253334d46aa48d": {
     "views": [
      {
       "cell_index": 41
      }
     ]
    },
    "27f54dd3029f4e519e6de652ec2c0e2c": {
     "views": [
      {
       "cell_index": 64
      }
     ]
    },
    "29d21247c92242da8db60f6b58e7c421": {
     "views": [
      {
       "cell_index": 54
      }
     ]
    },
    "2b124ec847264aaa9cc733d3882baf22": {
     "views": [
      {
       "cell_index": 65
      }
     ]
    },
    "2b5d988b28264466bc7e57b945cd20e6": {
     "views": [
      {
       "cell_index": 51
      }
     ]
    },
    "30badff96d1540c180d283600fd6b7e8": {
     "views": [
      {
       "cell_index": 63
      }
     ]
    },
    "3150be9d557d4668ad437337a950013e": {
     "views": [
      {
       "cell_index": 64
      }
     ]
    },
    "349a5e759f4c4e878397061c6fca6b62": {
     "views": [
      {
       "cell_index": 41
      }
     ]
    },
    "36009394488d49e29a442511e233e1f5": {
     "views": [
      {
       "cell_index": 67
      }
     ]
    },
    "372128ee121e400f8ea0df51a6dee693": {
     "views": [
      {
       "cell_index": 67
      }
     ]
    },
    "3934eee504be446ca626cee05fc3c6c1": {
     "views": [
      {
       "cell_index": 63
      }
     ]
    },
    "3a98d4babc7444e897151b0b3999049c": {
     "views": [
      {
       "cell_index": 56
      }
     ]
    },
    "3b94ec82a58c4bb6b5e95f8349f82725": {
     "views": [
      {
       "cell_index": 41
      }
     ]
    },
    "3c6a0d17393b4767a828350c2e9ecd96": {
     "views": [
      {
       "cell_index": 63
      }
     ]
    },
    "3cb5508b16644d40aa13cf2287ccc244": {
     "views": [
      {
       "cell_index": 65
      }
     ]
    },
    "3ea2b0bf6e5e4845a3885a3a01b6aca3": {
     "views": [
      {
       "cell_index": 54
      }
     ]
    },
    "3f4c421c2b7945b7b44c667d40990035": {
     "views": [
      {
       "cell_index": 53
      }
     ]
    },
    "3fbeb9d739644d67b2c2fda3aecb13b5": {
     "views": [
      {
       "cell_index": 53
      }
     ]
    },
    "4058b66f95984d52b51affeacb672277": {
     "views": [
      {
       "cell_index": 64
      }
     ]
    },
    "40953cc9264a41839417f986b0edff86": {
     "views": [
      {
       "cell_index": 54
      }
     ]
    },
    "4195d26d62e54a4fbf5820e6d4589cb1": {
     "views": [
      {
       "cell_index": 53
      }
     ]
    },
    "43344ae33e164619b99c037914dc29d4": {
     "views": [
      {
       "cell_index": 63
      }
     ]
    },
    "446c5ae4c4f34e378cfebbff1a93c186": {
     "views": [
      {
       "cell_index": 35
      }
     ]
    },
    "454b5e2c63254c478b8a25de4b7cb879": {
     "views": [
      {
       "cell_index": 64
      }
     ]
    },
    "46013b255c1b44f692d825888f0b7ba9": {
     "views": [
      {
       "cell_index": 54
      }
     ]
    },
    "4692923c8b0e48638c02c2b8d6d63205": {
     "views": [
      {
       "cell_index": 66
      }
     ]
    },
    "48664ddfdf9044f695fbe0fb67914d11": {
     "views": [
      {
       "cell_index": 54
      }
     ]
    },
    "48b6c83048b14499a1141306e311eaec": {
     "views": [
      {
       "cell_index": 54
      }
     ]
    },
    "49eb65f892314a59ac93e4219a2750d7": {
     "views": [
      {
       "cell_index": 35
      }
     ]
    },
    "4a4a2a66a8324a08b672cbd4abddf778": {
     "views": [
      {
       "cell_index": 64
      }
     ]
    },
    "4a670caa722b44dfaf560a580f827c34": {
     "views": [
      {
       "cell_index": 65
      }
     ]
    },
    "4b1c7b0e8e6d4e82b4b696dd767111ce": {
     "views": [
      {
       "cell_index": 65
      }
     ]
    },
    "4b8c481a3e274a3fbfd1f2ba71a95f78": {
     "views": [
      {
       "cell_index": 65
      }
     ]
    },
    "4c5538538a08400c9d0472a6f1c61271": {
     "views": [
      {
       "cell_index": 54
      }
     ]
    },
    "4c6c39ec409d4f1abab537e923e6c190": {
     "views": [
      {
       "cell_index": 67
      }
     ]
    },
    "4d968d3458e64ba68b654f421c9d2ec9": {
     "views": [
      {
       "cell_index": 53
      }
     ]
    },
    "4fe182b4989f46d3987d6546ff8d996d": {
     "views": [
      {
       "cell_index": 53
      }
     ]
    },
    "51de16b77e11488d8fe05596dc1d6a77": {
     "views": [
      {
       "cell_index": 64
      }
     ]
    },
    "52bef716b3ba4a2581304ea144661e9c": {
     "views": [
      {
       "cell_index": 53
      }
     ]
    },
    "530b2e0d5ec24cfe8395611d3c7c2376": {
     "views": [
      {
       "cell_index": 51
      }
     ]
    },
    "535935cae1a64bafbac40beca7cedacf": {
     "views": [
      {
       "cell_index": 63
      }
     ]
    },
    "551c0f7e5cb24c9289da8b1fea7676d8": {
     "views": [
      {
       "cell_index": 53
      }
     ]
    },
    "5549c42c1c5e48c88d1932cdb0da32c7": {
     "views": [
      {
       "cell_index": 53
      }
     ]
    },
    "55674621285141caa721988c354435d2": {
     "views": [
      {
       "cell_index": 65
      }
     ]
    },
    "564f9d44144047b4ad12dd073b988ba5": {
     "views": [
      {
       "cell_index": 53
      }
     ]
    },
    "56c1245c7e27423795df483e0620089f": {
     "views": [
      {
       "cell_index": 53
      }
     ]
    },
    "5722f2e2ede94d618aa2760396e5516f": {
     "views": [
      {
       "cell_index": 63
      }
     ]
    },
    "57e76772cb59488b88d2bc69c0415a03": {
     "views": [
      {
       "cell_index": 64
      }
     ]
    },
    "58b5100e179944a1a4becb3d1cd731a4": {
     "views": [
      {
       "cell_index": 63
      }
     ]
    },
    "5971a5c58da542629226950c7212dcc9": {
     "views": [
      {
       "cell_index": 53
      }
     ]
    },
    "5a293d19f40e44e88b60e2f69ec46e3b": {
     "views": [
      {
       "cell_index": 54
      }
     ]
    },
    "5a693b13b96a4d45aef6635d7ab26694": {
     "views": [
      {
       "cell_index": 67
      }
     ]
    },
    "5abb7c332ae9403094b09980b5a3fcaa": {
     "views": [
      {
       "cell_index": 63
      }
     ]
    },
    "5c3d2b504ab44e2cb2d3eb4aa80b97c4": {
     "views": [
      {
       "cell_index": 65
      }
     ]
    },
    "5cf30803228640d19b18c7788f3f1c60": {
     "views": [
      {
       "cell_index": 63
      }
     ]
    },
    "5e8b49a80e9b4e57bf5a03aae99ba1dc": {
     "views": [
      {
       "cell_index": 42
      }
     ]
    },
    "5f3095645b5648188ebb9fb309998041": {
     "views": [
      {
       "cell_index": 64
      }
     ]
    },
    "5f4a605c433343e4ae9b6606bce6b431": {
     "views": [
      {
       "cell_index": 54
      }
     ]
    },
    "6068115ee7ce42b089f423fdcb216f08": {
     "views": [
      {
       "cell_index": 63
      }
     ]
    },
    "629f0e4df5fb4f0795e42b1ee9dc9879": {
     "views": [
      {
       "cell_index": 53
      }
     ]
    },
    "630bd1fc9a454a2d8889433a8535b47d": {
     "views": [
      {
       "cell_index": 63
      }
     ]
    },
    "63808ac959414790947bcc688c91af44": {
     "views": [
      {
       "cell_index": 35
      }
     ]
    },
    "65dd8513939b4032b7aada5658bb0dab": {
     "views": [
      {
       "cell_index": 63
      }
     ]
    },
    "66c12b038e3f47bfb57e994a6f2f4834": {
     "views": [
      {
       "cell_index": 65
      }
     ]
    },
    "67aa7b9a7b374c73b6093c7cb8ae39f0": {
     "views": [
      {
       "cell_index": 54
      }
     ]
    },
    "67b6ccf9203f48b9b18f20b786f7d60d": {
     "views": [
      {
       "cell_index": 64
      }
     ]
    },
    "68568e497df343bea0ef604ec3213c9b": {
     "views": [
      {
       "cell_index": 64
      }
     ]
    },
    "68d3a3a08f854c1a80c0f21c5491486d": {
     "views": [
      {
       "cell_index": 56
      }
     ]
    },
    "69cddfe64a824f1cabaf1149ee973c4b": {
     "views": [
      {
       "cell_index": 35
      }
     ]
    },
    "6aa2bba10d7947e2aa8514525fea3d07": {
     "views": [
      {
       "cell_index": 63
      }
     ]
    },
    "6acbd462ffe74847bb6bd6e0e3e9e1cb": {
     "views": [
      {
       "cell_index": 63
      }
     ]
    },
    "6ae561fdebec4b138300aa16d5516058": {
     "views": [
      {
       "cell_index": 66
      }
     ]
    },
    "6cd6aff07b43404c94b3cff7ec49e475": {
     "views": [
      {
       "cell_index": 66
      }
     ]
    },
    "6cd875ba7e2a454492769f3a1d7ed6f6": {
     "views": [
      {
       "cell_index": 41
      }
     ]
    },
    "6e861bf0e16849968775fbec29d733f3": {
     "views": [
      {
       "cell_index": 35
      }
     ]
    },
    "6ead5b7908ec4f72969425097d6d93fe": {
     "views": [
      {
       "cell_index": 63
      }
     ]
    },
    "6f8f8fb64c0e4bedb5ac5f4a5d2376ef": {
     "views": [
      {
       "cell_index": 63
      }
     ]
    },
    "7145e9bb724a49a0bc4bf4c0e9517636": {
     "views": [
      {
       "cell_index": 54
      }
     ]
    },
    "74e63e7bca534985924e88a67d1b27af": {
     "views": [
      {
       "cell_index": 54
      }
     ]
    },
    "758b9e3f151048c6ab93f18397856c59": {
     "views": [
      {
       "cell_index": 51
      }
     ]
    },
    "75e772303d3e4ad6a64940ea903d3449": {
     "views": [
      {
       "cell_index": 53
      }
     ]
    },
    "76b05088ed4b4d929c94b78fa7ac07b9": {
     "views": [
      {
       "cell_index": 64
      }
     ]
    },
    "77227c2eef0c42e098899eaec592a9ac": {
     "views": [
      {
       "cell_index": 35
      }
     ]
    },
    "777663c54b5948c19ec37df9f1fe9fe9": {
     "views": [
      {
       "cell_index": 67
      }
     ]
    },
    "780cb06917e34906b96c7c4e4693b49b": {
     "views": [
      {
       "cell_index": 63
      }
     ]
    },
    "78257277a2234651bec50606578333f7": {
     "views": [
      {
       "cell_index": 63
      }
     ]
    },
    "7a0fa118ece64b1e97a9cb5ad45d7c77": {
     "views": [
      {
       "cell_index": 54
      }
     ]
    },
    "7ae73abe2ef44dbd9810faeda00bc115": {
     "views": [
      {
       "cell_index": 56
      }
     ]
    },
    "7d4163a34ed84680ba360066ee81b812": {
     "views": [
      {
       "cell_index": 53
      }
     ]
    },
    "7d5d3062b9ef4210a7287590020bbb82": {
     "views": [
      {
       "cell_index": 63
      }
     ]
    },
    "7db35403841642c59ffaa684f3a5ff90": {
     "views": [
      {
       "cell_index": 54
      }
     ]
    },
    "7dc7c64a83b249beb22661c5ce4dfb7b": {
     "views": [
      {
       "cell_index": 41
      }
     ]
    },
    "7e211da6587e4ba68524e5e028a5f644": {
     "views": [
      {
       "cell_index": 63
      }
     ]
    },
    "7e25faf75ffc4ac79b8ea249707c709b": {
     "views": [
      {
       "cell_index": 51
      }
     ]
    },
    "7fa422ea5d614a51b570f89a79dd9aaa": {
     "views": [
      {
       "cell_index": 41
      }
     ]
    },
    "8233bee02d9c486da0bc4df72fd9fbd5": {
     "views": [
      {
       "cell_index": 63
      }
     ]
    },
    "8297e30b0a39425eb060a1f39c8af8fe": {
     "views": [
      {
       "cell_index": 53
      }
     ]
    },
    "8515d7552b534824bb7df1f792237904": {
     "views": [
      {
       "cell_index": 63
      }
     ]
    },
    "893a176f7d964ecbb9b463b87de0023c": {
     "views": [
      {
       "cell_index": 62
      }
     ]
    },
    "8973b75366484f06bbfa3333c66ce459": {
     "views": [
      {
       "cell_index": 54
      }
     ]
    },
    "89a09ebf3d0948f8911cdc5f674c36c0": {
     "views": [
      {
       "cell_index": 63
      }
     ]
    },
    "8a7a9b915bb74274adebe67718a57674": {
     "views": [
      {
       "cell_index": 64
      }
     ]
    },
    "8b1db4e80db343ffbf03ff4a8fd7961c": {
     "views": [
      {
       "cell_index": 53
      }
     ]
    },
    "8c4ce4d424f349d3b748bf7ccfe8ce0f": {
     "views": [
      {
       "cell_index": 64
      }
     ]
    },
    "8d91f57a45404436b45849d98f796591": {
     "views": [
      {
       "cell_index": 64
      }
     ]
    },
    "8db6cfbb8f63477e99b74ed780ca5373": {
     "views": [
      {
       "cell_index": 56
      }
     ]
    },
    "8e3370db5e1d4606b627cad7a45aba70": {
     "views": [
      {
       "cell_index": 54
      }
     ]
    },
    "9060e54999344be5829f75e77480c062": {
     "views": [
      {
       "cell_index": 63
      }
     ]
    },
    "90fee8a122014ddba91c4c1486731884": {
     "views": [
      {
       "cell_index": 63
      }
     ]
    },
    "93f95fcfca0c4989b0691cd208e92689": {
     "views": [
      {
       "cell_index": 63
      }
     ]
    },
    "94e6c6f1bf9d4f47a1c4cf9efcfd8198": {
     "views": [
      {
       "cell_index": 56
      }
     ]
    },
    "961f67e909ea491698606ab49d30d140": {
     "views": [
      {
       "cell_index": 64
      }
     ]
    },
    "96c394294a19419c98be0fc61c8a3d17": {
     "views": [
      {
       "cell_index": 53
      }
     ]
    },
    "96e72d76b0f843f19ac16216238722fe": {
     "views": [
      {
       "cell_index": 64
      }
     ]
    },
    "97f3ca17b5a540d197314251978175aa": {
     "views": [
      {
       "cell_index": 65
      }
     ]
    },
    "981d31e5d30c41b598a49abd51315d30": {
     "views": [
      {
       "cell_index": 63
      }
     ]
    },
    "98b6015440134ea881c8b58d1a7444be": {
     "views": [
      {
       "cell_index": 53
      }
     ]
    },
    "98e91487c7db4624b607c02ceb609568": {
     "views": [
      {
       "cell_index": 54
      }
     ]
    },
    "9ac9a2371e66426f8f74a9508a16d201": {
     "views": [
      {
       "cell_index": 53
      }
     ]
    },
    "9e113b30a764445eb0649019cdf66ebf": {
     "views": [
      {
       "cell_index": 64
      }
     ]
    },
    "9f5a3892929f4e19858273d8e591e7f7": {
     "views": [
      {
       "cell_index": 66
      }
     ]
    },
    "a02549ff56904978bc2d018851882001": {
     "views": [
      {
       "cell_index": 53
      }
     ]
    },
    "a04213566bfa41c8ba4d42690a478aec": {
     "views": [
      {
       "cell_index": 67
      }
     ]
    },
    "a245885c6ae843ff94a8535ce79ed659": {
     "views": [
      {
       "cell_index": 54
      }
     ]
    },
    "a2f41d1eeefd424181554f47d54798c2": {
     "views": [
      {
       "cell_index": 64
      }
     ]
    },
    "a5e516032cb34e4fb7e279e6b9fc39f4": {
     "views": [
      {
       "cell_index": 41
      }
     ]
    },
    "a76c7992ee674c0288f5ca3c89e217c9": {
     "views": [
      {
       "cell_index": 54
      }
     ]
    },
    "ab1619fa61bb45d8937807396decf4a9": {
     "views": [
      {
       "cell_index": 67
      }
     ]
    },
    "ab635404966b43599d76337afaee8df0": {
     "views": [
      {
       "cell_index": 66
      }
     ]
    },
    "ab8ba776d36947d9a73fae28f5cc8a06": {
     "views": [
      {
       "cell_index": 54
      }
     ]
    },
    "ad59e6a2a55e448aaf46968cc700d5fe": {
     "views": [
      {
       "cell_index": 63
      }
     ]
    },
    "ae89f82c14bd4b4daad28c3d7ec547e4": {
     "views": [
      {
       "cell_index": 54
      }
     ]
    },
    "afd400f34fda4ad7929868a3d124f04d": {
     "views": [
      {
       "cell_index": 65
      }
     ]
    },
    "b047596d23214759bd419a8a11f3760a": {
     "views": [
      {
       "cell_index": 41
      }
     ]
    },
    "b07f8e132fed4b7cb6ad6674b2b62308": {
     "views": [
      {
       "cell_index": 42
      }
     ]
    },
    "b0d0ac5078494b8780800e36b0ce28b4": {
     "views": [
      {
       "cell_index": 66
      }
     ]
    },
    "b1225d1536ff4baa80aa26f9f26ec74e": {
     "views": [
      {
       "cell_index": 65
      }
     ]
    },
    "b1ff2b7cb93c4c8ab9778f7d177bee48": {
     "views": [
      {
       "cell_index": 35
      }
     ]
    },
    "b29e656984ea4d67a6b86619d5b48b9b": {
     "views": [
      {
       "cell_index": 65
      }
     ]
    },
    "b3f2be5e1d08464bad1df74efd7c4ddf": {
     "views": [
      {
       "cell_index": 67
      }
     ]
    },
    "b5c10553589d41d2a9377216d601624d": {
     "views": [
      {
       "cell_index": 63
      }
     ]
    },
    "b892d9d864f245568e4687a374088985": {
     "views": [
      {
       "cell_index": 64
      }
     ]
    },
    "bc91611de51f4c15bac72eb34b8751af": {
     "views": [
      {
       "cell_index": 64
      }
     ]
    },
    "bdd912fe4871489985d8fbe319ec09f9": {
     "views": [
      {
       "cell_index": 63
      }
     ]
    },
    "bdf4862b0c9c4e10a2e512da23acbcf9": {
     "views": [
      {
       "cell_index": 56
      }
     ]
    },
    "beb559692e3d447fadb246507f4dc87b": {
     "views": [
      {
       "cell_index": 63
      }
     ]
    },
    "bfae573de8674f02b7cc2fc798745a08": {
     "views": [
      {
       "cell_index": 51
      }
     ]
    },
    "bfb943e7f2c0431987f9afd26c8cb33b": {
     "views": [
      {
       "cell_index": 53
      }
     ]
    },
    "c0839fb6e301451eb99c23afc2097711": {
     "views": [
      {
       "cell_index": 66
      }
     ]
    },
    "c0e737ff724f419385912d53a8a982c1": {
     "views": [
      {
       "cell_index": 54
      }
     ]
    },
    "c31af2956a4b481ba0db9fb2bbe78cad": {
     "views": [
      {
       "cell_index": 53
      }
     ]
    },
    "c48f5550dc674d68b1c92a2956eb9fe5": {
     "views": [
      {
       "cell_index": 53
      }
     ]
    },
    "c4ef7bba863e4a4aba28eddf9ac3735d": {
     "views": [
      {
       "cell_index": 53
      }
     ]
    },
    "c55c83f693ff4e0194a557ea7824e6d9": {
     "views": [
      {
       "cell_index": 53
      }
     ]
    },
    "c5cbc13cd52e4c82999f04b1b3ee3bc4": {
     "views": [
      {
       "cell_index": 64
      }
     ]
    },
    "c6f31fa7fd3a48968fbc5550a072ace5": {
     "views": [
      {
       "cell_index": 66
      }
     ]
    },
    "c7046b0c171542e9a1aae09a23859c5a": {
     "views": [
      {
       "cell_index": 63
      }
     ]
    },
    "c8d6c316f53e4283b0057a24596b521f": {
     "views": [
      {
       "cell_index": 54
      }
     ]
    },
    "cb2d18bd963c4ca89901d2151c89c782": {
     "views": [
      {
       "cell_index": 67
      }
     ]
    },
    "cbcead00bd084b5db686d88fa47c56c1": {
     "views": [
      {
       "cell_index": 65
      }
     ]
    },
    "cbdcbaf7fa4742c6adb8242d64ffc0ea": {
     "views": [
      {
       "cell_index": 64
      }
     ]
    },
    "cc7efd32b0994e42b02186ca1d5383bc": {
     "views": [
      {
       "cell_index": 53
      }
     ]
    },
    "cd4da2e0753344af878ecf35eee4f78a": {
     "views": [
      {
       "cell_index": 67
      }
     ]
    },
    "cd670206c38441ad94d90e8ac5fc86f2": {
     "views": [
      {
       "cell_index": 64
      }
     ]
    },
    "ce845ab2a7764583bad34e9a6f4c2ae2": {
     "views": [
      {
       "cell_index": 63
      }
     ]
    },
    "ce9c17f8c61f4b029299c5bf4c06cc9f": {
     "views": [
      {
       "cell_index": 53
      }
     ]
    },
    "cea0523b90cf44ef9cbf2e2ea9f7b501": {
     "views": [
      {
       "cell_index": 54
      }
     ]
    },
    "d0a3a14cffff4dd292301dec145cbfb8": {
     "views": [
      {
       "cell_index": 53
      }
     ]
    },
    "d2ecb7b26d114468b14176e9043c976e": {
     "views": [
      {
       "cell_index": 41
      }
     ]
    },
    "d3673ced19654748aaa4a89a46e7e71c": {
     "views": [
      {
       "cell_index": 54
      }
     ]
    },
    "d5621e4d2af8437489fe000176c98b59": {
     "views": [
      {
       "cell_index": 64
      }
     ]
    },
    "d62107c43f904d6e8c52eb6ad1bad933": {
     "views": [
      {
       "cell_index": 41
      }
     ]
    },
    "d656e08eee4246a5a7b16bca444a5daa": {
     "views": [
      {
       "cell_index": 41
      }
     ]
    },
    "d66514341f924c4d97a16a79950a2aa2": {
     "views": [
      {
       "cell_index": 53
      }
     ]
    },
    "d9e5588fee1b4ec0be4abe0b27895b42": {
     "views": [
      {
       "cell_index": 63
      }
     ]
    },
    "da01b739e4f947cfb578b8cccffb8000": {
     "views": [
      {
       "cell_index": 41
      }
     ]
    },
    "dacdb242293e42eda721b9a1fbb80b71": {
     "views": [
      {
       "cell_index": 64
      }
     ]
    },
    "dbbbe394fb074088884fd75e82abd9d1": {
     "views": [
      {
       "cell_index": 35
      }
     ]
    },
    "dc3caba88d3c448aa2cc8786d03a517a": {
     "views": [
      {
       "cell_index": 35
      }
     ]
    },
    "dcb9ec8635e5422b96afef3f0989f455": {
     "views": [
      {
       "cell_index": 54
      }
     ]
    },
    "dcd726f5468b46a69ad6960b6da8cbbf": {
     "views": [
      {
       "cell_index": 64
      }
     ]
    },
    "dd178b6be225495dbb733b977ff2dda7": {
     "views": [
      {
       "cell_index": 63
      }
     ]
    },
    "de01f592054243d09b4f5a74c81a211b": {
     "views": [
      {
       "cell_index": 63
      }
     ]
    },
    "de44cec836614d9d942a0b13b62f7d36": {
     "views": [
      {
       "cell_index": 53
      }
     ]
    },
    "de512e6d001c40989da862a527055085": {
     "views": [
      {
       "cell_index": 51
      }
     ]
    },
    "e14ac92fd7b240849de2ee822b0bde31": {
     "views": [
      {
       "cell_index": 54
      }
     ]
    },
    "e1f8c1039fe04e139b15296ff9b0be83": {
     "views": [
      {
       "cell_index": 63
      }
     ]
    },
    "e23c8a1937134b65b3d675531d5b3fbc": {
     "views": [
      {
       "cell_index": 66
      }
     ]
    },
    "e2433f1e47c344808e5155818b1f1e2b": {
     "views": [
      {
       "cell_index": 65
      }
     ]
    },
    "e35f115bb2104ac6a233ae976f572c54": {
     "views": [
      {
       "cell_index": 54
      }
     ]
    },
    "e6bb845274f54fed8b2d387518b4ee82": {
     "views": [
      {
       "cell_index": 54
      }
     ]
    },
    "e752f2913b2643c9b0ced4f221dadaac": {
     "views": [
      {
       "cell_index": 53
      }
     ]
    },
    "e94a2ce3f9284418b4b08b70f4662841": {
     "views": [
      {
       "cell_index": 67
      }
     ]
    },
    "e9879d05da6f40c19a68177db993dc6d": {
     "views": [
      {
       "cell_index": 67
      }
     ]
    },
    "ebd1e20cc4fe43a4aebab749c5cfc823": {
     "views": [
      {
       "cell_index": 64
      }
     ]
    },
    "ec395226c36c437bb2c8c734f4c8a8b6": {
     "views": [
      {
       "cell_index": 54
      }
     ]
    },
    "ec5b9d1c85174e049589fbd8c2ec3c09": {
     "views": [
      {
       "cell_index": 64
      }
     ]
    },
    "ef4daba2a423421dae11d9433c10a22e": {
     "views": [
      {
       "cell_index": 66
      }
     ]
    },
    "f03c1ece1bec49b880905fe6bec6e4d3": {
     "views": [
      {
       "cell_index": 56
      }
     ]
    },
    "f2619e0fd71b4e7493fe976311d1847d": {
     "views": [
      {
       "cell_index": 63
      }
     ]
    },
    "f30c75490d8746e48ccdbc854776f4c5": {
     "views": [
      {
       "cell_index": 64
      }
     ]
    },
    "f324a6e3174043cb8fc3feedc8f5426e": {
     "views": [
      {
       "cell_index": 56
      }
     ]
    },
    "f3fdf693a4d54c8e8192a141fd964dbe": {
     "views": [
      {
       "cell_index": 54
      }
     ]
    },
    "f45d4f0153864905aae8125a9248d9f5": {
     "views": [
      {
       "cell_index": 65
      }
     ]
    },
    "f528fbf2545c4e1697ecc957348aaaba": {
     "views": [
      {
       "cell_index": 64
      }
     ]
    },
    "f6bd3a0906f34ec9b93c83896f879d2d": {
     "views": [
      {
       "cell_index": 63
      }
     ]
    },
    "f6e911aa3bf740bcb9f5b07907cd4197": {
     "views": [
      {
       "cell_index": 53
      }
     ]
    },
    "f83f103792e14a6e80d6ecd3674ed5b0": {
     "views": [
      {
       "cell_index": 63
      }
     ]
    },
    "f8696c0325de4f3d8da557af1f915a85": {
     "views": [
      {
       "cell_index": 54
      }
     ]
    },
    "f9bee8f6384a4bebb23a2d505aff5213": {
     "views": [
      {
       "cell_index": 53
      }
     ]
    },
    "fad8171856b7466eb49cb571d3f87be4": {
     "views": [
      {
       "cell_index": 63
      }
     ]
    },
    "fb2976c457f24b80971840e1013a52ea": {
     "views": [
      {
       "cell_index": 64
      }
     ]
    },
    "fca01c1ec5eb4b18b930cd88e238e530": {
     "views": [
      {
       "cell_index": 64
      }
     ]
    },
    "fdd7241c658849eda68a12e7ef52367b": {
     "views": [
      {
       "cell_index": 51
      }
     ]
    },
    "fdf5b5423e3b4db4a5b076d319636ecd": {
     "views": [
      {
       "cell_index": 63
      }
     ]
    },
    "fe6436a7cc074c09b323db44a480b2ba": {
     "views": [
      {
       "cell_index": 63
      }
     ]
    },
    "fec7dcb48b7d430fb933bdf05075699a": {
     "views": [
      {
       "cell_index": 65
      }
     ]
    },
    "fec85cc35db54c3eb670c9e72d05729d": {
     "views": [
      {
       "cell_index": 66
      }
     ]
    },
    "fedc0193e6e74eafb07ccfca6fd9d924": {
     "views": [
      {
       "cell_index": 64
      }
     ]
    },
    "fef493be9f12496282a5fb66d20f0982": {
     "views": [
      {
       "cell_index": 53
      }
     ]
    },
    "ff8e4bd5b0b94fee8c59e51c356daefb": {
     "views": [
      {
       "cell_index": 53
      }
     ]
    }
   },
   "version": "1.2.0"
  }
 },
 "nbformat": 4,
 "nbformat_minor": 2
}
